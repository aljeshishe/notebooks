{
  "nbformat": 4,
  "nbformat_minor": 0,
  "metadata": {
    "colab": {
      "name": "cnn_predict.ipynb",
      "provenance": [],
      "authorship_tag": "ABX9TyPcpR3+acjeib1Do2v8bCDC",
      "include_colab_link": true
    },
    "kernelspec": {
      "name": "python3",
      "display_name": "Python 3"
    }
  },
  "cells": [
    {
      "cell_type": "markdown",
      "metadata": {
        "id": "view-in-github",
        "colab_type": "text"
      },
      "source": [
        "<a href=\"https://colab.research.google.com/github/aljeshishe/notebooks/blob/master/cnn_predict.ipynb\" target=\"_parent\"><img src=\"https://colab.research.google.com/assets/colab-badge.svg\" alt=\"Open In Colab\"/></a>"
      ]
    },
    {
      "cell_type": "code",
      "metadata": {
        "id": "O7PjONc_jFeY",
        "colab_type": "code",
        "colab": {
          "base_uri": "https://localhost:8080/",
          "height": 139
        },
        "outputId": "3631c9d2-cada-4c4a-9e9c-d65f8535d0cd"
      },
      "source": [
        "from keras.preprocessing.image import img_to_array, load_img\n",
        "from keras import applications\n",
        "from numpy import expand_dims \n",
        "\n",
        "from keras.applications.vgg16 import VGG16\n",
        "from matplotlib import pyplot\n",
        "\n",
        "preprocess_input = applications.vgg16.preprocess_input\n",
        "ModelClass = applications.vgg16.VGG16\n",
        "\n",
        "preprocess_input = applications.resnet_v2.preprocess_input\n",
        "ModelClass = applications.resnet_v2.ResNet152V2\n",
        "\n",
        "\n",
        "model = ModelClass()\n",
        "\n",
        "import requests\n",
        "img_file_name = 'bird.jpg'\n",
        "r = requests.get('https://3qeqpr26caki16dnhd19sv6by6v-wpengine.netdna-ssl.com/wp-content/uploads/2019/02/bird.jpg')\n",
        "r.raise_for_status()\n",
        "with open(img_file_name, 'wb') as fp:\n",
        "  fp.write(r.content)\n",
        "\n",
        "input_shape = model.input_shape[1:3]  # (None, 224, 224, 3) -> (224, 224)\n",
        "img = img_to_array(load_img(img_file_name, target_size=input_shape))\n",
        "img = expand_dims(img, 0)\n",
        "img = preprocess_input(img)\n",
        "y = model.predict(img)\n",
        "y = decode_predictions(y)\n",
        "y"
      ],
      "execution_count": 18,
      "outputs": [
        {
          "output_type": "stream",
          "text": [
            "Downloading data from https://github.com/keras-team/keras-applications/releases/download/resnet/resnet152v2_weights_tf_dim_ordering_tf_kernels.h5\n",
            "242753536/242745792 [==============================] - 6s 0us/step\n"
          ],
          "name": "stdout"
        },
        {
          "output_type": "execute_result",
          "data": {
            "text/plain": [
              "[[('n01558993', 'robin', 0.9999995),\n",
              "  ('n04604644', 'worm_fence', 1.8087084e-07),\n",
              "  ('n02951585', 'can_opener', 8.436147e-08),\n",
              "  ('n01530575', 'brambling', 7.6933695e-08),\n",
              "  ('n01532829', 'house_finch', 2.1264317e-08)]]"
            ]
          },
          "metadata": {
            "tags": []
          },
          "execution_count": 18
        }
      ]
    }
  ]
}