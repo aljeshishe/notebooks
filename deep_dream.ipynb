{
  "nbformat": 4,
  "nbformat_minor": 0,
  "metadata": {
    "colab": {
      "name": "deep_dream.ipynb",
      "provenance": [],
      "authorship_tag": "ABX9TyOJ3JvYXPGWwgmvqM/yufHj",
      "include_colab_link": true
    },
    "kernelspec": {
      "name": "python3",
      "display_name": "Python 3"
    },
    "accelerator": "GPU"
  },
  "cells": [
    {
      "cell_type": "markdown",
      "metadata": {
        "id": "view-in-github",
        "colab_type": "text"
      },
      "source": [
        "<a href=\"https://colab.research.google.com/github/aljeshishe/notebooks/blob/master/deep_dream.ipynb\" target=\"_parent\"><img src=\"https://colab.research.google.com/assets/colab-badge.svg\" alt=\"Open In Colab\"/></a>"
      ]
    },
    {
      "cell_type": "code",
      "metadata": {
        "id": "Hv4G1HYWzHLG",
        "colab_type": "code",
        "colab": {}
      },
      "source": [
        "\n",
        "from __future__ import print_function\n",
        "\n",
        "from keras.preprocessing.image import load_img, save_img, img_to_array\n",
        "import numpy as np\n",
        "import scipy\n",
        "import argparse\n",
        "\n",
        "from keras import applications\n",
        "from keras import backend as K\n"
      ],
      "execution_count": 0,
      "outputs": []
    },
    {
      "cell_type": "code",
      "metadata": {
        "id": "QSguSg4uTxzG",
        "colab_type": "code",
        "colab": {
          "base_uri": "https://localhost:8080/",
          "height": 34
        },
        "outputId": "2e46dd13-94ca-49ae-a7e8-6b2d1e21393c"
      },
      "source": [
        "model.get_layer('block1_conv1').filters"
      ],
      "execution_count": 34,
      "outputs": [
        {
          "output_type": "execute_result",
          "data": {
            "text/plain": [
              "64"
            ]
          },
          "metadata": {
            "tags": []
          },
          "execution_count": 34
        }
      ]
    },
    {
      "cell_type": "code",
      "metadata": {
        "id": "jcm2AxQQ2U1a",
        "colab_type": "code",
        "outputId": "650502eb-a7e0-4c44-d394-0d3e79f3ec4a",
        "colab": {
          "base_uri": "https://localhost:8080/",
          "height": 347
        }
      },
      "source": [
        "# Build the InceptionV3 network with our placeholder.\n",
        "# The model will be loaded with pre-trained ImageNet weights.\n",
        "model = applications.VGG16(include_top=False,\n",
        "                           weights='imagenet')\n",
        "for layer in model.layers:\n",
        "  print(layer.name)"
      ],
      "execution_count": 17,
      "outputs": [
        {
          "output_type": "stream",
          "text": [
            "input_5\n",
            "block1_conv1\n",
            "block1_conv2\n",
            "block1_pool\n",
            "block2_conv1\n",
            "block2_conv2\n",
            "block2_pool\n",
            "block3_conv1\n",
            "block3_conv2\n",
            "block3_conv3\n",
            "block3_pool\n",
            "block4_conv1\n",
            "block4_conv2\n",
            "block4_conv3\n",
            "block4_pool\n",
            "block5_conv1\n",
            "block5_conv2\n",
            "block5_conv3\n",
            "block5_pool\n"
          ],
          "name": "stdout"
        }
      ]
    },
    {
      "cell_type": "code",
      "metadata": {
        "id": "7eAXHe09S9zM",
        "colab_type": "code",
        "colab": {
          "base_uri": "https://localhost:8080/",
          "height": 124
        },
        "outputId": "1d6b4d9a-0e4b-40fe-9f59-d6668b27d913"
      },
      "source": [
        "# mount google drive\n",
        "from google.colab import drive\n",
        "drive.mount('/content/drive')"
      ],
      "execution_count": 28,
      "outputs": [
        {
          "output_type": "stream",
          "text": [
            "Go to this URL in a browser: https://accounts.google.com/o/oauth2/auth?client_id=947318989803-6bn6qk8qdgf4n4g3pfee6491hc0brc4i.apps.googleusercontent.com&redirect_uri=urn%3aietf%3awg%3aoauth%3a2.0%3aoob&response_type=code&scope=email%20https%3a%2f%2fwww.googleapis.com%2fauth%2fdocs.test%20https%3a%2f%2fwww.googleapis.com%2fauth%2fdrive%20https%3a%2f%2fwww.googleapis.com%2fauth%2fdrive.photos.readonly%20https%3a%2f%2fwww.googleapis.com%2fauth%2fpeopleapi.readonly\n",
            "\n",
            "Enter your authorization code:\n",
            "··········\n",
            "Mounted at /content/drive\n"
          ],
          "name": "stdout"
        }
      ]
    },
    {
      "cell_type": "code",
      "metadata": {
        "id": "R-VBSwP-JFA8",
        "colab_type": "code",
        "colab": {}
      },
      "source": [
        "import matplotlib.pyplot as plt\n",
        "\n",
        "def deprocess_image(x):\n",
        "    # normalize tensor: center on 0., ensure std is 0.1\n",
        "    x -= x.mean()\n",
        "    x /= (x.std() + 1e-5)\n",
        "    x *= 0.1\n",
        "\n",
        "    # clip to [0, 1]\n",
        "    x += 0.5\n",
        "    x = np.clip(x, 0, 1)\n",
        "\n",
        "    # convert to RGB array\n",
        "    x *= 255\n",
        "    #x = x.transpose((1, 2, 0))\n",
        "    x = np.clip(x, 0, 255).astype('uint8')\n",
        "    return x\n",
        "\n",
        "\n",
        "def generate_pattern(layer_name, filter_index, rand_img):\n",
        "    layer = model.get_layer(layer_name)\n",
        "    layer_output = layer.output\n",
        "    \n",
        "    loss = K.mean(layer_output[:, :, :, filter_index])\n",
        "    grads = K.gradients(loss, model.input)[0]\n",
        "    grads /= (K.sqrt(K.mean(K.square(grads))) + 1e-5)\n",
        "    iterate = K.function([model.input], [loss, grads])\n",
        "    step = 1\n",
        "    for _ in range(20):\n",
        "        loss_value, grads_value = iterate([rand_img])\n",
        "        rand_img += grads_value * step\n",
        "    \n",
        "    img = rand_img[0]\n",
        "    return img\n",
        "\n",
        "path = '/content/drive/My Drive/Colab Notebooks/deep_dream'\n",
        "count = 1\n",
        "size = 1024\n",
        "for layer in model.layers:\n",
        "  if 'conv' not in layer.name:\n",
        "    continue\n",
        "  count = layer.filters  # 1\n",
        "  #layer_name = 'block3_conv1'\n",
        "\n",
        "  for i in range(count):\n",
        "    rand_img = np.random.random((1, size, size, 3)) * 20 + 128.\n",
        "    img = generate_pattern(layer_name=layer_name, filter_index=i, rand_img=rand_img)\n",
        "    #plt.figure(figsize=(10,10))\n",
        "    #plt.imshow(deprocess_image(img))\n",
        "    save_img(f'{path}/{layer_name}_{i}.jpg', deprocess_image(img))\n",
        "    "
      ],
      "execution_count": 0,
      "outputs": []
    }
  ]
}