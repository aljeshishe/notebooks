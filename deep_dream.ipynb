{
  "nbformat": 4,
  "nbformat_minor": 0,
  "metadata": {
    "colab": {
      "name": "deep_dream.ipynb",
      "provenance": [],
      "collapsed_sections": [],
      "authorship_tag": "ABX9TyMiJVSg3Xydz3/65w7PzJGQ",
      "include_colab_link": true
    },
    "kernelspec": {
      "name": "python3",
      "display_name": "Python 3"
    },
    "accelerator": "GPU"
  },
  "cells": [
    {
      "cell_type": "markdown",
      "metadata": {
        "id": "view-in-github",
        "colab_type": "text"
      },
      "source": [
        "<a href=\"https://colab.research.google.com/github/aljeshishe/notebooks/blob/master/deep_dream.ipynb\" target=\"_parent\"><img src=\"https://colab.research.google.com/assets/colab-badge.svg\" alt=\"Open In Colab\"/></a>"
      ]
    },
    {
      "cell_type": "code",
      "metadata": {
        "id": "Hv4G1HYWzHLG",
        "colab_type": "code",
        "outputId": "8d019638-c281-4eff-b2bb-5143c1583e99",
        "colab": {
          "base_uri": "https://localhost:8080/",
          "height": 34
        }
      },
      "source": [
        "\n",
        "from __future__ import print_function\n",
        "\n",
        "from keras.preprocessing.image import load_img, save_img, img_to_array\n",
        "import numpy as np\n",
        "import scipy\n",
        "import argparse\n",
        "\n",
        "from keras import applications\n",
        "from keras import backend as K\n"
      ],
      "execution_count": 1,
      "outputs": [
        {
          "output_type": "stream",
          "text": [
            "Using TensorFlow backend.\n"
          ],
          "name": "stderr"
        }
      ]
    },
    {
      "cell_type": "code",
      "metadata": {
        "id": "jcm2AxQQ2U1a",
        "colab_type": "code",
        "outputId": "8b01525e-d0cf-409a-a913-3b2cd913e4bb",
        "colab": {
          "base_uri": "https://localhost:8080/",
          "height": 382
        }
      },
      "source": [
        "# Build the InceptionV3 network with our placeholder.\n",
        "# The model will be loaded with pre-trained ImageNet weights.\n",
        "model = applications.VGG16(include_top=False,\n",
        "                           weights='imagenet')\n",
        "for layer in model.layers:\n",
        "  print(layer.name)"
      ],
      "execution_count": 2,
      "outputs": [
        {
          "output_type": "stream",
          "text": [
            "Downloading data from https://github.com/fchollet/deep-learning-models/releases/download/v0.1/vgg16_weights_tf_dim_ordering_tf_kernels_notop.h5\n",
            "58892288/58889256 [==============================] - 1s 0us/step\n",
            "input_1\n",
            "block1_conv1\n",
            "block1_conv2\n",
            "block1_pool\n",
            "block2_conv1\n",
            "block2_conv2\n",
            "block2_pool\n",
            "block3_conv1\n",
            "block3_conv2\n",
            "block3_conv3\n",
            "block3_pool\n",
            "block4_conv1\n",
            "block4_conv2\n",
            "block4_conv3\n",
            "block4_pool\n",
            "block5_conv1\n",
            "block5_conv2\n",
            "block5_conv3\n",
            "block5_pool\n"
          ],
          "name": "stdout"
        }
      ]
    },
    {
      "cell_type": "code",
      "metadata": {
        "id": "7eAXHe09S9zM",
        "colab_type": "code",
        "colab": {
          "base_uri": "https://localhost:8080/",
          "height": 124
        },
        "outputId": "c99f452d-729a-4f64-b360-be5d2f561cc8"
      },
      "source": [
        "# mount google drive\n",
        "from google.colab import drive\n",
        "drive.mount('/content/drive')"
      ],
      "execution_count": 3,
      "outputs": [
        {
          "output_type": "stream",
          "text": [
            "Go to this URL in a browser: https://accounts.google.com/o/oauth2/auth?client_id=947318989803-6bn6qk8qdgf4n4g3pfee6491hc0brc4i.apps.googleusercontent.com&redirect_uri=urn%3aietf%3awg%3aoauth%3a2.0%3aoob&response_type=code&scope=email%20https%3a%2f%2fwww.googleapis.com%2fauth%2fdocs.test%20https%3a%2f%2fwww.googleapis.com%2fauth%2fdrive%20https%3a%2f%2fwww.googleapis.com%2fauth%2fdrive.photos.readonly%20https%3a%2f%2fwww.googleapis.com%2fauth%2fpeopleapi.readonly\n",
            "\n",
            "Enter your authorization code:\n",
            "··········\n",
            "Mounted at /content/drive\n"
          ],
          "name": "stdout"
        }
      ]
    },
    {
      "cell_type": "code",
      "metadata": {
        "id": "R-VBSwP-JFA8",
        "colab_type": "code",
        "outputId": "ac93d5c5-58a8-49b3-c04a-76e5ec7fe4e7",
        "colab": {
          "base_uri": "https://localhost:8080/",
          "height": 34
        }
      },
      "source": [
        "import matplotlib.pyplot as plt\n",
        "\n",
        "def deprocess_image(x):\n",
        "    # normalize tensor: center on 0., ensure std is 0.1\n",
        "    x -= x.mean()\n",
        "    x /= (x.std() + 1e-5)\n",
        "    x *= 0.1\n",
        "\n",
        "    # clip to [0, 1]\n",
        "    x += 0.5\n",
        "    x = np.clip(x, 0, 1)\n",
        "\n",
        "    # convert to RGB array\n",
        "    x *= 255\n",
        "    #x = x.transpose((1, 2, 0))\n",
        "    x = np.clip(x, 0, 255).astype('uint8')\n",
        "    return x\n",
        "\n",
        "\n",
        "def generate_pattern(layer_name, filter_index, rand_img):\n",
        "    layer = model.get_layer(layer_name)\n",
        "    layer_output = layer.output\n",
        "    \n",
        "    loss = K.mean(layer_output[:, :, :, filter_index])\n",
        "    grads = K.gradients(loss, model.input)[0]\n",
        "    grads /= (K.sqrt(K.mean(K.square(grads))) + 1e-5)\n",
        "    iterate = K.function([model.input], [loss, grads])\n",
        "    step = 1\n",
        "    for _ in range(20):\n",
        "        loss_value, grads_value = iterate([rand_img])\n",
        "        rand_img += grads_value * step\n",
        "    \n",
        "    img = rand_img[0]\n",
        "    return img\n",
        "\n",
        "path = '/content/drive/My Drive/Colab Notebooks/deep_dream'\n",
        "count = 1\n",
        "size = 1024\n",
        "layers = '''block4_conv1\n",
        "block4_conv2\n",
        "block4_conv3\n",
        "block5_conv1\n",
        "block5_conv2\n",
        "block5_conv3'''\n",
        "for layer in layers.split():\n",
        "  layer = model.get_layer(layer)\n",
        "  if 'conv' not in layer.name:\n",
        "    continue\n",
        "  count = layer.filters  # 1\n",
        "  layer_name = layer.name\n",
        "  #layer_name = 'block3_conv1'\n",
        "  print(f'\\r{layer_name} {i}')\n",
        "  for i in range(count):\n",
        "    rand_img = np.random.random((1, size, size, 3)) * 20 + 128.\n",
        "    img = generate_pattern(layer_name=layer_name, filter_index=i, rand_img=rand_img)\n",
        "    #plt.figure(figsize=(10,10))\n",
        "    #plt.imshow(deprocess_image(img))\n",
        "    save_img(f'{path}/{layer_name}_{i}.jpg', deprocess_image(img))\n",
        "    "
      ],
      "execution_count": 0,
      "outputs": [
        {
          "output_type": "stream",
          "text": [
            "\rblock4_conv1 0\n"
          ],
          "name": "stdout"
        }
      ]
    }
  ]
}