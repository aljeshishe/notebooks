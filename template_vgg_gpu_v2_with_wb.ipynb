{
  "nbformat": 4,
  "nbformat_minor": 0,
  "metadata": {
    "colab": {
      "name": "Copy of template_vgg_gpu_v2_with_wb.ipynb",
      "provenance": [],
      "collapsed_sections": [],
      "include_colab_link": true
    },
    "kernelspec": {
      "name": "python3",
      "display_name": "Python 3"
    }
  },
  "cells": [
    {
      "cell_type": "markdown",
      "metadata": {
        "id": "view-in-github",
        "colab_type": "text"
      },
      "source": [
        "<a href=\"https://colab.research.google.com/github/aljeshishe/notebooks/blob/master/template_vgg_gpu_v2_with_wb.ipynb\" target=\"_parent\"><img src=\"https://colab.research.google.com/assets/colab-badge.svg\" alt=\"Open In Colab\"/></a>"
      ]
    },
    {
      "cell_type": "code",
      "metadata": {
        "id": "KNgMYYlCQFkd",
        "colab_type": "code",
        "outputId": "b6045e9f-f751-4140-e8ba-d127dcfb2a5c",
        "colab": {
          "base_uri": "https://localhost:8080/",
          "height": 104
        }
      },
      "source": [
        "import tensorflow as tf \n",
        "import os\n",
        "# use gpu/cpu/tpu\n",
        "# see details in https://colab.research.google.com/drive/1cpuwjKTJbMjlvZ7opyrWzMXF_NYnjkiE#scrollTo=y3gk7nSvTUFZ\n",
        "gpus = tf.config.experimental.list_physical_devices('GPU')\n",
        "COLAB_TPU_ADDR = os.environ.get('COLAB_TPU_ADDR')\n",
        "if COLAB_TPU_ADDR:\n",
        "  resolver = tf.distribute.cluster_resolver.TPUClusterResolver(tpu='grpc://' + COLAB_TPU_ADDR)\n",
        "  tf.config.experimental_connect_to_cluster(resolver)\n",
        "  # This is the TPU initialization code that has to be at the beginning.\n",
        "  tf.tpu.experimental.initialize_tpu_system(resolver)\n",
        "  strategy = tf.distribute.experimental.TPUStrategy(resolver)\n",
        "  print('Running on TPU ')  \n",
        "elif len(gpus) > 1:\n",
        "  strategy = tf.distribute.MirroredStrategy([gpu.name for gpu in gpus])\n",
        "  print('Running on multiple GPUs ', [gpu.name for gpu in gpus])\n",
        "elif len(gpus) == 1:\n",
        "  strategy = tf.distribute.get_strategy() # default strategy that works on CPU and single GPU\n",
        "  print('Running on single GPU ', gpus[0].name)\n",
        "else:\n",
        "  strategy = tf.distribute.get_strategy() # default strategy that works on CPU and single GPU\n",
        "  print('Running on CPU')\n",
        "print(\"Number of accelerators: \", strategy.num_replicas_in_sync)\n",
        "!nvidia-smi\n",
        "tf.test.gpu_device_name()"
      ],
      "execution_count": 0,
      "outputs": [
        {
          "output_type": "stream",
          "text": [
            "Running on CPU\n",
            "Number of accelerators:  1\n",
            "NVIDIA-SMI has failed because it couldn't communicate with the NVIDIA driver. Make sure that the latest NVIDIA driver is installed and running.\n",
            "\n"
          ],
          "name": "stdout"
        },
        {
          "output_type": "execute_result",
          "data": {
            "text/plain": [
              "''"
            ]
          },
          "metadata": {
            "tags": []
          },
          "execution_count": 1
        }
      ]
    },
    {
      "cell_type": "code",
      "metadata": {
        "id": "B662yLVoQMiY",
        "colab_type": "code",
        "outputId": "c8ed2ecd-f018-4d97-8301-3b91a0aa9dac",
        "colab": {
          "base_uri": "https://localhost:8080/",
          "height": 159
        }
      },
      "source": [
        "from google.colab import drive\n",
        "drive.mount('/content/drive')\n",
        "\n",
        "def notebook_name():\n",
        "  import re\n",
        "  import ipykernel\n",
        "  import requests\n",
        "\n",
        "  from notebook.notebookapp import list_running_servers\n",
        "  # kernel_id = re.search('kernel-(.*).json', ipykernel.connect.get_connection_file()).group(1)\n",
        "  for ss in list_running_servers():\n",
        "      response = requests.get(f'{ss[\"url\"]}api/sessions',params={'token': ss.get('token', '')})\n",
        "      return response.json()[0]['name']\n",
        "\n",
        "\n",
        "project, _, _ = notebook_name().rpartition('.')\n",
        "\n",
        "import urllib\n",
        "project = urllib.parse.unquote(project)\n",
        "\n",
        "import re \n",
        "project = re.sub('[^-a-zA-Z0-9_]+', '_', project)\n",
        "\n",
        "working_dir = f'/content/drive/My Drive/Colab Notebooks/{project}'\n",
        "print(f'Current project: {project}')\n",
        "print(f'Places at: {working_dir}')\n",
        "\n",
        "import pathlib\n",
        "pathlib.Path(working_dir).mkdir(parents=True, exist_ok=True)\n"
      ],
      "execution_count": 0,
      "outputs": [
        {
          "output_type": "stream",
          "text": [
            "Go to this URL in a browser: https://accounts.google.com/o/oauth2/auth?client_id=947318989803-6bn6qk8qdgf4n4g3pfee6491hc0brc4i.apps.googleusercontent.com&redirect_uri=urn%3aietf%3awg%3aoauth%3a2.0%3aoob&response_type=code&scope=email%20https%3a%2f%2fwww.googleapis.com%2fauth%2fdocs.test%20https%3a%2f%2fwww.googleapis.com%2fauth%2fdrive%20https%3a%2f%2fwww.googleapis.com%2fauth%2fdrive.photos.readonly%20https%3a%2f%2fwww.googleapis.com%2fauth%2fpeopleapi.readonly\n",
            "\n",
            "Enter your authorization code:\n",
            "··········\n",
            "Mounted at /content/drive\n",
            "Current project: Copy_of_template_vgg_gpu_v2_with_wb\n",
            "Places at: /content/drive/My Drive/Colab Notebooks/Copy_of_template_vgg_gpu_v2_with_wb\n"
          ],
          "name": "stdout"
        }
      ]
    },
    {
      "cell_type": "code",
      "metadata": {
        "id": "rooAwY-1QT_4",
        "colab_type": "code",
        "outputId": "ab1fa6f2-2749-433f-fb76-5935d2f98867",
        "colab": {
          "base_uri": "https://localhost:8080/",
          "height": 225
        }
      },
      "source": [
        "!pip install wandb -q\n",
        "!WANDB_API_KEY=723983b2d42ccd7c5510bbeb0549aa73f1242844\n",
        "!export WANDB_API_KEY\n",
        "\n",
        "import wandb\n",
        "wandb.init(project=project, dir=working_dir, config=config)\n",
        "conf = wandb.config"
      ],
      "execution_count": 0,
      "outputs": [
        {
          "output_type": "stream",
          "text": [
            "\u001b[?25l\r\u001b[K     |▎                               | 10kB 23.6MB/s eta 0:00:01\r\u001b[K     |▌                               | 20kB 3.5MB/s eta 0:00:01\r\u001b[K     |▊                               | 30kB 3.6MB/s eta 0:00:01\r\u001b[K     |█                               | 40kB 3.2MB/s eta 0:00:01\r\u001b[K     |█▏                              | 51kB 3.4MB/s eta 0:00:01\r\u001b[K     |█▍                              | 61kB 4.0MB/s eta 0:00:01\r\u001b[K     |█▋                              | 71kB 4.2MB/s eta 0:00:01\r\u001b[K     |██                              | 81kB 4.0MB/s eta 0:00:01\r\u001b[K     |██▏                             | 92kB 4.4MB/s eta 0:00:01\r\u001b[K     |██▍                             | 102kB 4.6MB/s eta 0:00:01\r\u001b[K     |██▋                             | 112kB 4.6MB/s eta 0:00:01\r\u001b[K     |██▉                             | 122kB 4.6MB/s eta 0:00:01\r\u001b[K     |███                             | 133kB 4.6MB/s eta 0:00:01\r\u001b[K     |███▎                            | 143kB 4.6MB/s eta 0:00:01\r\u001b[K     |███▌                            | 153kB 4.6MB/s eta 0:00:01\r\u001b[K     |███▉                            | 163kB 4.6MB/s eta 0:00:01\r\u001b[K     |████                            | 174kB 4.6MB/s eta 0:00:01\r\u001b[K     |████▎                           | 184kB 4.6MB/s eta 0:00:01\r\u001b[K     |████▌                           | 194kB 4.6MB/s eta 0:00:01\r\u001b[K     |████▊                           | 204kB 4.6MB/s eta 0:00:01\r\u001b[K     |█████                           | 215kB 4.6MB/s eta 0:00:01\r\u001b[K     |█████▏                          | 225kB 4.6MB/s eta 0:00:01\r\u001b[K     |█████▌                          | 235kB 4.6MB/s eta 0:00:01\r\u001b[K     |█████▊                          | 245kB 4.6MB/s eta 0:00:01\r\u001b[K     |██████                          | 256kB 4.6MB/s eta 0:00:01\r\u001b[K     |██████▏                         | 266kB 4.6MB/s eta 0:00:01\r\u001b[K     |██████▍                         | 276kB 4.6MB/s eta 0:00:01\r\u001b[K     |██████▋                         | 286kB 4.6MB/s eta 0:00:01\r\u001b[K     |██████▉                         | 296kB 4.6MB/s eta 0:00:01\r\u001b[K     |███████                         | 307kB 4.6MB/s eta 0:00:01\r\u001b[K     |███████▍                        | 317kB 4.6MB/s eta 0:00:01\r\u001b[K     |███████▋                        | 327kB 4.6MB/s eta 0:00:01\r\u001b[K     |███████▉                        | 337kB 4.6MB/s eta 0:00:01\r\u001b[K     |████████                        | 348kB 4.6MB/s eta 0:00:01\r\u001b[K     |████████▎                       | 358kB 4.6MB/s eta 0:00:01\r\u001b[K     |████████▌                       | 368kB 4.6MB/s eta 0:00:01\r\u001b[K     |████████▊                       | 378kB 4.6MB/s eta 0:00:01\r\u001b[K     |█████████                       | 389kB 4.6MB/s eta 0:00:01\r\u001b[K     |█████████▎                      | 399kB 4.6MB/s eta 0:00:01\r\u001b[K     |█████████▌                      | 409kB 4.6MB/s eta 0:00:01\r\u001b[K     |█████████▊                      | 419kB 4.6MB/s eta 0:00:01\r\u001b[K     |██████████                      | 430kB 4.6MB/s eta 0:00:01\r\u001b[K     |██████████▏                     | 440kB 4.6MB/s eta 0:00:01\r\u001b[K     |██████████▍                     | 450kB 4.6MB/s eta 0:00:01\r\u001b[K     |██████████▋                     | 460kB 4.6MB/s eta 0:00:01\r\u001b[K     |███████████                     | 471kB 4.6MB/s eta 0:00:01\r\u001b[K     |███████████▏                    | 481kB 4.6MB/s eta 0:00:01\r\u001b[K     |███████████▍                    | 491kB 4.6MB/s eta 0:00:01\r\u001b[K     |███████████▋                    | 501kB 4.6MB/s eta 0:00:01\r\u001b[K     |███████████▉                    | 512kB 4.6MB/s eta 0:00:01\r\u001b[K     |████████████                    | 522kB 4.6MB/s eta 0:00:01\r\u001b[K     |████████████▎                   | 532kB 4.6MB/s eta 0:00:01\r\u001b[K     |████████████▋                   | 542kB 4.6MB/s eta 0:00:01\r\u001b[K     |████████████▉                   | 552kB 4.6MB/s eta 0:00:01\r\u001b[K     |█████████████                   | 563kB 4.6MB/s eta 0:00:01\r\u001b[K     |█████████████▎                  | 573kB 4.6MB/s eta 0:00:01\r\u001b[K     |█████████████▌                  | 583kB 4.6MB/s eta 0:00:01\r\u001b[K     |█████████████▊                  | 593kB 4.6MB/s eta 0:00:01\r\u001b[K     |██████████████                  | 604kB 4.6MB/s eta 0:00:01\r\u001b[K     |██████████████▏                 | 614kB 4.6MB/s eta 0:00:01\r\u001b[K     |██████████████▌                 | 624kB 4.6MB/s eta 0:00:01\r\u001b[K     |██████████████▊                 | 634kB 4.6MB/s eta 0:00:01\r\u001b[K     |███████████████                 | 645kB 4.6MB/s eta 0:00:01\r\u001b[K     |███████████████▏                | 655kB 4.6MB/s eta 0:00:01\r\u001b[K     |███████████████▍                | 665kB 4.6MB/s eta 0:00:01\r\u001b[K     |███████████████▋                | 675kB 4.6MB/s eta 0:00:01\r\u001b[K     |███████████████▉                | 686kB 4.6MB/s eta 0:00:01\r\u001b[K     |████████████████                | 696kB 4.6MB/s eta 0:00:01\r\u001b[K     |████████████████▍               | 706kB 4.6MB/s eta 0:00:01\r\u001b[K     |████████████████▋               | 716kB 4.6MB/s eta 0:00:01\r\u001b[K     |████████████████▉               | 727kB 4.6MB/s eta 0:00:01\r\u001b[K     |█████████████████               | 737kB 4.6MB/s eta 0:00:01\r\u001b[K     |█████████████████▎              | 747kB 4.6MB/s eta 0:00:01\r\u001b[K     |█████████████████▌              | 757kB 4.6MB/s eta 0:00:01\r\u001b[K     |█████████████████▊              | 768kB 4.6MB/s eta 0:00:01\r\u001b[K     |██████████████████              | 778kB 4.6MB/s eta 0:00:01\r\u001b[K     |██████████████████▎             | 788kB 4.6MB/s eta 0:00:01\r\u001b[K     |██████████████████▌             | 798kB 4.6MB/s eta 0:00:01\r\u001b[K     |██████████████████▊             | 808kB 4.6MB/s eta 0:00:01\r\u001b[K     |███████████████████             | 819kB 4.6MB/s eta 0:00:01\r\u001b[K     |███████████████████▏            | 829kB 4.6MB/s eta 0:00:01\r\u001b[K     |███████████████████▍            | 839kB 4.6MB/s eta 0:00:01\r\u001b[K     |███████████████████▋            | 849kB 4.6MB/s eta 0:00:01\r\u001b[K     |████████████████████            | 860kB 4.6MB/s eta 0:00:01\r\u001b[K     |████████████████████▏           | 870kB 4.6MB/s eta 0:00:01\r\u001b[K     |████████████████████▍           | 880kB 4.6MB/s eta 0:00:01\r\u001b[K     |████████████████████▋           | 890kB 4.6MB/s eta 0:00:01\r\u001b[K     |████████████████████▉           | 901kB 4.6MB/s eta 0:00:01\r\u001b[K     |█████████████████████           | 911kB 4.6MB/s eta 0:00:01\r\u001b[K     |█████████████████████▎          | 921kB 4.6MB/s eta 0:00:01\r\u001b[K     |█████████████████████▋          | 931kB 4.6MB/s eta 0:00:01\r\u001b[K     |█████████████████████▉          | 942kB 4.6MB/s eta 0:00:01\r\u001b[K     |██████████████████████          | 952kB 4.6MB/s eta 0:00:01\r\u001b[K     |██████████████████████▎         | 962kB 4.6MB/s eta 0:00:01\r\u001b[K     |██████████████████████▌         | 972kB 4.6MB/s eta 0:00:01\r\u001b[K     |██████████████████████▊         | 983kB 4.6MB/s eta 0:00:01\r\u001b[K     |███████████████████████         | 993kB 4.6MB/s eta 0:00:01\r\u001b[K     |███████████████████████▏        | 1.0MB 4.6MB/s eta 0:00:01\r\u001b[K     |███████████████████████▌        | 1.0MB 4.6MB/s eta 0:00:01\r\u001b[K     |███████████████████████▊        | 1.0MB 4.6MB/s eta 0:00:01\r\u001b[K     |████████████████████████        | 1.0MB 4.6MB/s eta 0:00:01\r\u001b[K     |████████████████████████▏       | 1.0MB 4.6MB/s eta 0:00:01\r\u001b[K     |████████████████████████▍       | 1.1MB 4.6MB/s eta 0:00:01\r\u001b[K     |████████████████████████▋       | 1.1MB 4.6MB/s eta 0:00:01\r\u001b[K     |████████████████████████▉       | 1.1MB 4.6MB/s eta 0:00:01\r\u001b[K     |█████████████████████████▏      | 1.1MB 4.6MB/s eta 0:00:01\r\u001b[K     |█████████████████████████▍      | 1.1MB 4.6MB/s eta 0:00:01\r\u001b[K     |█████████████████████████▋      | 1.1MB 4.6MB/s eta 0:00:01\r\u001b[K     |█████████████████████████▉      | 1.1MB 4.6MB/s eta 0:00:01\r\u001b[K     |██████████████████████████      | 1.1MB 4.6MB/s eta 0:00:01\r\u001b[K     |██████████████████████████▎     | 1.1MB 4.6MB/s eta 0:00:01\r\u001b[K     |██████████████████████████▌     | 1.1MB 4.6MB/s eta 0:00:01\r\u001b[K     |██████████████████████████▊     | 1.2MB 4.6MB/s eta 0:00:01\r\u001b[K     |███████████████████████████     | 1.2MB 4.6MB/s eta 0:00:01\r\u001b[K     |███████████████████████████▎    | 1.2MB 4.6MB/s eta 0:00:01\r\u001b[K     |███████████████████████████▌    | 1.2MB 4.6MB/s eta 0:00:01\r\u001b[K     |███████████████████████████▊    | 1.2MB 4.6MB/s eta 0:00:01\r\u001b[K     |████████████████████████████    | 1.2MB 4.6MB/s eta 0:00:01\r\u001b[K     |████████████████████████████▏   | 1.2MB 4.6MB/s eta 0:00:01\r\u001b[K     |████████████████████████████▍   | 1.2MB 4.6MB/s eta 0:00:01\r\u001b[K     |████████████████████████████▋   | 1.2MB 4.6MB/s eta 0:00:01\r\u001b[K     |█████████████████████████████   | 1.2MB 4.6MB/s eta 0:00:01\r\u001b[K     |█████████████████████████████▏  | 1.3MB 4.6MB/s eta 0:00:01\r\u001b[K     |█████████████████████████████▍  | 1.3MB 4.6MB/s eta 0:00:01\r\u001b[K     |█████████████████████████████▋  | 1.3MB 4.6MB/s eta 0:00:01\r\u001b[K     |█████████████████████████████▉  | 1.3MB 4.6MB/s eta 0:00:01\r\u001b[K     |██████████████████████████████  | 1.3MB 4.6MB/s eta 0:00:01\r\u001b[K     |██████████████████████████████▎ | 1.3MB 4.6MB/s eta 0:00:01\r\u001b[K     |██████████████████████████████▋ | 1.3MB 4.6MB/s eta 0:00:01\r\u001b[K     |██████████████████████████████▉ | 1.3MB 4.6MB/s eta 0:00:01\r\u001b[K     |███████████████████████████████ | 1.3MB 4.6MB/s eta 0:00:01\r\u001b[K     |███████████████████████████████▎| 1.4MB 4.6MB/s eta 0:00:01\r\u001b[K     |███████████████████████████████▌| 1.4MB 4.6MB/s eta 0:00:01\r\u001b[K     |███████████████████████████████▊| 1.4MB 4.6MB/s eta 0:00:01\r\u001b[K     |████████████████████████████████| 1.4MB 4.6MB/s eta 0:00:01\r\u001b[K     |████████████████████████████████| 1.4MB 4.6MB/s \n",
            "\u001b[K     |████████████████████████████████| 102kB 9.7MB/s \n",
            "\u001b[K     |████████████████████████████████| 112kB 17.0MB/s \n",
            "\u001b[K     |████████████████████████████████| 102kB 9.2MB/s \n",
            "\u001b[K     |████████████████████████████████| 460kB 21.2MB/s \n",
            "\u001b[K     |████████████████████████████████| 71kB 8.4MB/s \n",
            "\u001b[K     |████████████████████████████████| 71kB 9.0MB/s \n",
            "\u001b[?25h  Building wheel for watchdog (setup.py) ... \u001b[?25l\u001b[?25hdone\n",
            "  Building wheel for subprocess32 (setup.py) ... \u001b[?25l\u001b[?25hdone\n",
            "  Building wheel for gql (setup.py) ... \u001b[?25l\u001b[?25hdone\n",
            "  Building wheel for pathtools (setup.py) ... \u001b[?25l\u001b[?25hdone\n",
            "  Building wheel for graphql-core (setup.py) ... \u001b[?25l\u001b[?25hdone\n"
          ],
          "name": "stdout"
        }
      ]
    },
    {
      "cell_type": "code",
      "metadata": {
        "id": "KYN4BJRj04iP",
        "colab_type": "code",
        "colab": {}
      },
      "source": [
        "import tensorflow as tf \n",
        "from tensorflow import keras\n",
        "import numpy as np \n",
        "import matplotlib.pyplot as plt \n",
        "import sys \n",
        "\n",
        "from tensorflow.keras.datasets import cifar10\n",
        "from tensorflow.keras.models import Sequential \n",
        "from tensorflow.keras.layers import Dense, Dropout, Flatten \n",
        "from tensorflow.keras.layers import Conv2D, MaxPooling2D\n",
        "from tensorflow.keras.optimizers import SGD\n",
        "from tensorflow.keras import regularizers\n",
        "from tensorflow.keras.preprocessing.image import ImageDataGenerator\n",
        "from tensorflow.keras.layers import BatchNormalization\n",
        "from time import time "
      ],
      "execution_count": 0,
      "outputs": []
    },
    {
      "cell_type": "code",
      "metadata": {
        "id": "IJZjYfD0_rFO",
        "colab_type": "code",
        "outputId": "b44bc326-18e4-40b4-c422-9e2dcd0ace68",
        "colab": {
          "base_uri": "https://localhost:8080/",
          "height": 191
        }
      },
      "source": [
        "labels = [\n",
        "    'airplane', \n",
        "    'automobile',\n",
        "    'bird',\n",
        "    'cat',\n",
        "    'deer',\n",
        "    'dog',\n",
        "    'frog',\n",
        "    'horse',\n",
        "    'ship',\n",
        "    'truck'\n",
        "]\n",
        "\n",
        "#load dataset\n",
        "(trainX, trainY),(testX, testY) = cifar10.load_data()\n",
        "\n",
        "#one hot encode the target \n",
        "trainY = keras.utils.to_categorical(trainY)\n",
        "testY = keras.utils.to_categorical(testY)\n",
        "\n",
        "# normalize the data\n",
        "trainX = trainX.astype('float32') / 255.0\n",
        "testX = testX.astype('float32') / 255.0\n",
        "\n",
        "v_split = 0.5\n",
        "index_of_validation = int(v_split * len(testX))\n",
        "validX = np.asarray(testX[-index_of_validation:])\n",
        "validY = np.asarray(testY[-index_of_validation:])\n",
        "testX = np.asarray(testX[:-index_of_validation])\n",
        "testY = np.asarray(testY[:-index_of_validation])\n",
        "\n",
        "print(f'Prepared dataset:')\n",
        "print(f'trainX:{trainX.shape}')\n",
        "print(f'trainY:{trainY.shape}')\n",
        "print(f'validX:{validX.shape}')\n",
        "print(f'validY:{validY.shape}')\n",
        "print(f'testX:{testX.shape}')\n",
        "print(f'testY:{testY.shape}')\n",
        "print(f'labels:{\" \".join(labels)}')"
      ],
      "execution_count": 0,
      "outputs": [
        {
          "output_type": "stream",
          "text": [
            "Downloading data from https://www.cs.toronto.edu/~kriz/cifar-10-python.tar.gz\n",
            "170500096/170498071 [==============================] - 4s 0us/step\n",
            "Prepared dataset:\n",
            "trainX:(50000, 32, 32, 3)\n",
            "trainY:(50000, 10)\n",
            "validX:(5000, 32, 32, 3)\n",
            "validY:(5000, 10)\n",
            "testX:(5000, 32, 32, 3)\n",
            "testY:(5000, 10)\n",
            "labels:airplane automobile bird cat deer dog frog horse ship truck\n"
          ],
          "name": "stdout"
        }
      ]
    },
    {
      "cell_type": "code",
      "metadata": {
        "id": "fD2QAAZbYlwC",
        "colab_type": "code",
        "colab": {}
      },
      "source": [
        "config.batch_size = 64          # input batch size for training (default: 64)\n",
        "config.epochs = 1000             # number of epochs to train (default: 10)\n",
        "config.lr = 0.001               # learning rate (default: 0.01)\n",
        "config.momentum = 0.9          # SGD momentum (default: 0.5) \n",
        "config.seed = 42               # random seed (default: 42)\n",
        "config.log_interval = 10     # how many batches to wait before logging training status\n",
        "config.weight_decay = 0.0005"
      ],
      "execution_count": 0,
      "outputs": []
    },
    {
      "cell_type": "code",
      "metadata": {
        "id": "--8PDw7LAq8-",
        "colab_type": "code",
        "colab": {}
      },
      "source": [
        "def vgg():\n",
        "  input_shape = (trainX.shape[1], trainX.shape[2], 3)\n",
        "  \n",
        "  # Define the model architecture - This is a simplified version of the VGG19 architecture\n",
        "  model = Sequential()\n",
        "  \n",
        "  # Set of Conv2D, Conv2D, MaxPooling2D layers with 32 and 64 filters\n",
        "  model.add(Conv2D(filters = 32, kernel_size = (3, 3), padding = 'same', \n",
        "                    activation ='relu', input_shape = input_shape, kernel_regularizer=regularizers.l2(config.weight_decay)))\n",
        "  model.add(BatchNormalization())\n",
        "  model.add(Dropout(0.3))\n",
        "\n",
        "  model.add(Conv2D(filters = 64, kernel_size = (3, 3), padding = 'same', \n",
        "                    activation ='relu', input_shape = input_shape, kernel_regularizer=regularizers.l2(config.weight_decay)))\n",
        "  model.add(BatchNormalization())\n",
        "\n",
        "  model.add(MaxPooling2D(pool_size=(2, 2)))\n",
        "\n",
        "  # Another set of Conv2D, Conv2D, MaxPooling2D layers with 128 filters\n",
        "  model.add(Conv2D(filters = 128, kernel_size = (3, 3), padding = 'same', \n",
        "                    activation ='relu', input_shape = input_shape, kernel_regularizer=regularizers.l2(config.weight_decay)))\n",
        "  model.add(BatchNormalization())\n",
        "  model.add(Dropout(0.4))\n",
        "\n",
        "  model.add(Conv2D(filters = 128, kernel_size = (3, 3), padding = 'same', \n",
        "                    activation ='relu', input_shape = input_shape, kernel_regularizer=regularizers.l2(config.weight_decay)))\n",
        "  model.add(BatchNormalization())\n",
        "\n",
        "  model.add(MaxPooling2D(pool_size=(2, 2)))\n",
        "\n",
        "  # Another set of Conv2D, Conv2D, MaxPooling2D layers with 256 filters\n",
        "  model.add(Conv2D(filters = 256, kernel_size = (3, 3), padding = 'same', \n",
        "                    activation ='relu', input_shape = input_shape, kernel_regularizer=regularizers.l2(config.weight_decay)))\n",
        "  model.add(BatchNormalization())\n",
        "  model.add(Dropout(0.4))\n",
        "\n",
        "  model.add(Conv2D(filters = 256, kernel_size = (3, 3), padding = 'same', \n",
        "                    activation ='relu', input_shape = input_shape, kernel_regularizer=regularizers.l2(config.weight_decay)))\n",
        "  model.add(BatchNormalization())\n",
        "\n",
        "  model.add(MaxPooling2D(pool_size=(2, 2)))\n",
        "\n",
        "  # Another set of Conv2D, Conv2D, MaxPooling2D layers with 512 filters\n",
        "  model.add(Conv2D(filters = 512, kernel_size = (3, 3), padding = 'same', \n",
        "                    activation ='relu', input_shape = input_shape, kernel_regularizer=regularizers.l2(config.weight_decay)))\n",
        "  model.add(BatchNormalization())\n",
        "  model.add(Dropout(0.4))\n",
        "\n",
        "  model.add(Conv2D(filters = 512, kernel_size = (3, 3), padding = 'same', \n",
        "                    activation ='relu', input_shape = input_shape, kernel_regularizer=regularizers.l2(config.weight_decay)))\n",
        "  model.add(BatchNormalization())\n",
        "\n",
        "  model.add(MaxPooling2D(pool_size=(2, 2)))\n",
        "\n",
        "  # Another set of Conv2D, Conv2D, MaxPooling2D layers with 512 filters\n",
        "  model.add(Conv2D(filters = 1024, kernel_size = (3, 3), padding = 'same', \n",
        "                    activation ='relu', input_shape = input_shape, kernel_regularizer=regularizers.l2(config.weight_decay)))\n",
        "  model.add(BatchNormalization())\n",
        "  model.add(Dropout(0.4))\n",
        "\n",
        "  model.add(Conv2D(filters = 1024, kernel_size = (3, 3), padding = 'same', \n",
        "                    activation ='relu', input_shape = input_shape, kernel_regularizer=regularizers.l2(config.weight_decay)))\n",
        "  model.add(BatchNormalization())\n",
        "\n",
        "  model.add(MaxPooling2D(pool_size=(2, 2)))\n",
        "\n",
        "  # Flatten\n",
        "  model.add(Flatten())\n",
        "  model.add(Dense(512, activation ='relu', kernel_regularizer=regularizers.l2(config.weight_decay)))\n",
        "  model.add(BatchNormalization())\n",
        "  model.add(Dropout(0.5))\n",
        "  num_classes = 10\n",
        "  model.add(Dense(num_classes, activation = \"softmax\"))\n",
        "  opt = SGD(lr = config.lr, momentum=config.momentum)\n",
        "  model.compile(optimizer=opt, loss = 'categorical_crossentropy', metrics = ['accuracy'])\n",
        "  return model"
      ],
      "execution_count": 0,
      "outputs": []
    },
    {
      "cell_type": "code",
      "metadata": {
        "id": "fYxyiIGoPQ3v",
        "colab_type": "code",
        "colab": {}
      },
      "source": [
        "# define model\n",
        "def baseline():\n",
        "    model = Sequential()\n",
        "    model.add(Conv2D(32,(3,3), activation = 'relu', kernel_initializer = 'he_uniform', padding = 'same', input_shape = (32,32,3)))\n",
        "    model.add(BatchNormalization())\n",
        "    model.add(Conv2D(32,(3,3), activation = 'relu', kernel_initializer = 'he_uniform', padding = 'same'))\n",
        "    model.add(BatchNormalization())\n",
        "    model.add(MaxPooling2D((2,2)))\n",
        "    model.add(Dropout(0.2))\n",
        "    model.add(Conv2D(64,(3,3), activation = 'relu', kernel_initializer = 'he_uniform', padding = 'same'))\n",
        "    model.add(BatchNormalization())\n",
        "    model.add(Conv2D(64,(3,3), activation = 'relu', kernel_initializer = 'he_uniform', padding = 'same'))\n",
        "    model.add(BatchNormalization())\n",
        "    model.add(MaxPooling2D((2,2)))\n",
        "    model.add(Dropout(0.3))\n",
        "    model.add(Conv2D(128,(3,3), activation = 'relu', kernel_initializer = 'he_uniform', padding = 'same'))\n",
        "    model.add(BatchNormalization())\n",
        "    model.add(Conv2D(128,(3,3), activation = 'relu', kernel_initializer = 'he_uniform', padding = 'same'))\n",
        "    model.add(BatchNormalization())\n",
        "    model.add(MaxPooling2D((2,2)))\n",
        "    model.add(Dropout(0.4))\n",
        "   \n",
        "\n",
        "    model.add(Flatten())\n",
        "    model.add(Dense(128, activation = 'relu', kernel_initializer = 'he_uniform'))\n",
        "    model.add(BatchNormalization())\n",
        "    model.add(Dropout(0.5))\n",
        "    model.add(Dense(10, activation = 'softmax'))\n",
        "    \n",
        "    #compile model \n",
        "    opt = SGD(lr = config.lr, momentum=config.momentum)\n",
        "    model.compile(optimizer=opt, loss = 'categorical_crossentropy', metrics = ['accuracy'])\n",
        "    return model\n"
      ],
      "execution_count": 0,
      "outputs": []
    },
    {
      "cell_type": "code",
      "metadata": {
        "id": "UwhpW4_UPRlJ",
        "colab_type": "code",
        "outputId": "bb7e43a9-e310-4692-80ec-cffce468a5c8",
        "colab": {
          "base_uri": "https://localhost:8080/",
          "height": 185
        }
      },
      "source": [
        "with strategy.scope():\n",
        "  model = baseline()\n"
      ],
      "execution_count": 0,
      "outputs": [
        {
          "output_type": "error",
          "ename": "NameError",
          "evalue": "ignored",
          "traceback": [
            "\u001b[0;31m---------------------------------------------------------------------------\u001b[0m",
            "\u001b[0;31mNameError\u001b[0m                                 Traceback (most recent call last)",
            "\u001b[0;32m<ipython-input-3-2308de9d4d9f>\u001b[0m in \u001b[0;36m<module>\u001b[0;34m()\u001b[0m\n\u001b[1;32m      1\u001b[0m \u001b[0;32mwith\u001b[0m \u001b[0mstrategy\u001b[0m\u001b[0;34m.\u001b[0m\u001b[0mscope\u001b[0m\u001b[0;34m(\u001b[0m\u001b[0;34m)\u001b[0m\u001b[0;34m:\u001b[0m\u001b[0;34m\u001b[0m\u001b[0;34m\u001b[0m\u001b[0m\n\u001b[0;32m----> 2\u001b[0;31m   \u001b[0mmodel\u001b[0m \u001b[0;34m=\u001b[0m \u001b[0mbaseline\u001b[0m\u001b[0;34m(\u001b[0m\u001b[0;34m)\u001b[0m\u001b[0;34m\u001b[0m\u001b[0;34m\u001b[0m\u001b[0m\n\u001b[0m",
            "\u001b[0;31mNameError\u001b[0m: name 'baseline' is not defined"
          ]
        }
      ]
    },
    {
      "cell_type": "code",
      "metadata": {
        "id": "Fd1xlEhUAXDB",
        "colab_type": "code",
        "colab": {}
      },
      "source": [
        "datagen = ImageDataGenerator(width_shift_range=0.1, height_shift_range=0.1, horizontal_flip=True)\n",
        "\n",
        "history = model.fit(x=datagen.flow(trainX, trainY, batch_size=config.batch_size),\n",
        "                    steps_per_epoch=int(trainX.shape[0] / config.batch_size),\n",
        "                    initial_epoch=0,\n",
        "                    epochs=config.epochs,\n",
        "                    validation_data=(validX, validY), verbose=0,\n",
        "                    callbacks=[WandbCallback(data_type=\"image\",\n",
        "                                             validation_data=(validX, validY),\n",
        "                                             labels=labels,\n",
        "                                             predictions=10,\n",
        "                                             save_model=True,\n",
        "                                             verbose=1)])\n",
        "\n"
      ],
      "execution_count": 0,
      "outputs": []
    },
    {
      "cell_type": "code",
      "metadata": {
        "id": "1m6QNpNUrEaJ",
        "colab_type": "code",
        "colab": {}
      },
      "source": [
        "import matplotlib.pyplot as plt\n",
        "from plotly.subplots import make_subplots\n",
        "import plotly.graph_objects as go\n",
        "np.set_printoptions(floatmode='fixed', linewidth=200,)\n",
        "\n",
        "\n",
        "y_pred = model.predict(testX)\n"
      ],
      "execution_count": 0,
      "outputs": []
    },
    {
      "cell_type": "code",
      "metadata": {
        "id": "pgqGfeX02q3b",
        "colab_type": "code",
        "colab": {}
      },
      "source": [
        "preds = np.argmax(y_pred, axis=1)\n",
        "tests = np.argmax(testY, axis=1)\n",
        "mistakes = np.nonzero(preds-tests)[0]\n",
        "print(f'Test accuracy: {(1 - len(mistakes)/len(tests)):.2f} ({len(mistakes)} of {len(tests)})')\n",
        "mistakes = mistakes[:25]\n",
        "examples = []\n",
        "fig = plt.figure(figsize=(20,20))\n",
        "for i, ind in enumerate(mistakes, start=1):\n",
        "    ind = int(ind)\n",
        "    fig.add_subplot(5,5, i)        \n",
        "    plt.imshow(testX[ind])\n",
        "    plt.title(f'predicted:{labels[preds[ind]]} actual:{labels[tests[ind]]}')\n",
        "    # examples.append(wandb.Image(x, caption=f'predicted:{y_pred} actual:{y}'))\n",
        "    # print(y_pred,y)\n",
        "    # plt.figure()\n",
        "    # plt.title()\n",
        "#wandb.log(dict(examples=examples))\n"
      ],
      "execution_count": 0,
      "outputs": []
    },
    {
      "cell_type": "code",
      "metadata": {
        "id": "9iRJXeDq_cI-",
        "colab_type": "code",
        "colab": {}
      },
      "source": [
        "_, acc = model.evaluate(testX, testY, verbose=0)\n",
        "print('> %.3f' % (acc * 100.0))\n"
      ],
      "execution_count": 0,
      "outputs": []
    }
  ]
}